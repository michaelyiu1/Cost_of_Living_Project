{
 "cells": [
  {
   "cell_type": "markdown",
   "id": "a9273261",
   "metadata": {},
   "source": [
    "Create Data Frame for Unemployment Statistics, Quality of Life and Cost of Living Statistics, and US City stats"
   ]
  },
  {
   "cell_type": "code",
   "execution_count": null,
   "id": "bb89be30",
   "metadata": {},
   "outputs": [],
   "source": [
    "import pandas as pd\n",
    "import ast\n",
    "\n",
    "#Unemployment Rate\n",
    "unemployment_df = pd.read_csv('city_unemployment_rate.csv')\n",
    "unemployment_df_sorted = unemployment_df.sort_values(by='Unemployment Rate',ascending=False)\n",
    "\n",
    "#Labor Force per City\n",
    "labor_df = pd.read_csv('city_labor_force_population.csv')\n",
    "labor_df = labor_df.sort_values(by='Labor Force Population',ascending=False)\n",
    "\n",
    "#Quality of Life Ratings\n",
    "quality_life_df = pd.read_csv('quality_of_life.csv')\n",
    "\n",
    "#Cost of Living statistics\n",
    "cost_living_df = pd.read_csv('cost_of_living.csv')\n",
    "\n",
    "#US Cities\n",
    "cities_df = pd.read_csv('uscities.csv')\n",
    "city_density_df = cities_df.sort_values(by='density',ascending=False)\n",
    "city_population_df = cities_df.sort_values(by='population',ascending=False)\n",
    "\n",
    "# Function to safely convert string to tuple, used for analysis below\n",
    "def str_to_tuple(val):\n",
    "    try:\n",
    "        return ast.literal_eval(val)\n",
    "    except (ValueError, SyntaxError):\n",
    "        return None\n",
    "\n",
    "# Example tables to display for final report\n",
    "print(cost_living_df[['City','Water (1.5 liter bottle)','Cappuccino (regular)']].head())\n",
    "print(quality_life_df[['City','Purchasing Power Index','Cost of Living Index']].head())\n",
    "print(unemployment_df[['City','Unemployment Rate','State Abbreviation']].head())\n",
    "print(labor_df[['City','Labor Force Population']].head())\n"
   ]
  },
  {
   "cell_type": "markdown",
   "id": "aac9aa73",
   "metadata": {},
   "source": [
    "Display cities with highest purchasing power and quality of life index"
   ]
  },
  {
   "cell_type": "code",
   "execution_count": null,
   "id": "4ebcd53b",
   "metadata": {},
   "outputs": [],
   "source": [
    "# Display cities with highest purchasing power and quality of life index\n",
    "#Function to extract the float value from the csv file\n",
    "def extract_value(val):\n",
    "    t = str_to_tuple(val)\n",
    "    if t and t[0] != '?':\n",
    "        try:\n",
    "            index_value = float(t[0])\n",
    "            return index_value\n",
    "        except:\n",
    "            return None\n",
    "    else:\n",
    "        return None\n",
    "\n",
    "#Sort the quality of life dataset by purchase power index, starting with the highest\n",
    "df_purchase_power = quality_life_df.sort_values(\n",
    "    by= 'Purchasing Power Index',\n",
    "    key= lambda col: col.map(extract_value),\n",
    "    ascending= False,\n",
    "    na_position='last'\n",
    ")\n",
    "\n",
    "#Table of cities with highest purhcase power\n",
    "df_purchase_power = df_purchase_power.drop_duplicates(subset=['City'], keep='first')\n",
    "df_purchase_power.head(15)"
   ]
  },
  {
   "cell_type": "markdown",
   "id": "875e6b0a",
   "metadata": {},
   "source": [
    "Compare Monthly Apartment Prices of the Top populated US Cities"
   ]
  },
  {
   "cell_type": "code",
   "execution_count": null,
   "id": "e496070c",
   "metadata": {},
   "outputs": [],
   "source": [
    "import ast\n",
    "import matplotlib.pyplot as plt # for additional customization\n",
    "\n",
    "#Build a table of the 10 most populated cities and rank the cost of a 1 Bedroom apartment in the city center\n",
    "cities = city_population_df[0:15]\n",
    "cities_cost = dict()\n",
    "\n",
    "for index,row in cities.iterrows():\n",
    "    try:\n",
    "        city = row.values[1].strip()\n",
    "        city_costs= cost_living_df.loc[cost_living_df['City'] == city]\n",
    "        avg_1BR_citycenter = str_to_tuple(city_costs['Apartment (1 bedroom) in City Centre'].values[0])[0]\n",
    "        avg_3BR_citycenter = str_to_tuple(city_costs['Apartment (3 bedrooms) in City Centre'].values[0])[0]\n",
    "        avg_1BR_non_citycenter = str_to_tuple(city_costs['Apartment (1 bedroom) Outside of Centre'].values[0])[0]\n",
    "        avg_3BR_non_citycenter = str_to_tuple(city_costs['Apartment (3 bedrooms) Outside of Centre'].values[0])[0]\n",
    "\n",
    "        #avg_meal = str_to_tuple(city_costs[\"Meal, Inexpensive Restaurant\"].values[0])[0]\n",
    "        avg_salary = str_to_tuple(city_costs['Average Monthly Net Salary (After Tax)'].values[0])[0]\n",
    "        cities_cost[city] = [avg_1BR_citycenter, avg_1BR_non_citycenter, avg_3BR_non_citycenter, avg_3BR_citycenter, avg_salary]\n",
    "    except:\n",
    "        pass\n",
    "\n",
    "df = pd.DataFrame(cities_cost)\n",
    "df.index = ['Apartment (1 Bed) City Center','Apartment (1 Bed) Non-City Center','Apartment (3 Bed) Non-City Center','Apartment (3 Bed) City Center','Average Monthly Salary after tax']\n",
    "df = df.T\n",
    "df = df.map(lambda x: float(str(x).replace(',', '')))\n",
    "df1 = df.sort_values(by = 'Average Monthly Salary after tax',ascending=False)\n",
    "\n",
    "#1 Bedroom Costs \n",
    "city_1BR_costs = df1[['Apartment (1 Bed) City Center','Apartment (1 Bed) Non-City Center','Average Monthly Salary after tax']]\n",
    "# Plotting a bar graph for the 'Values' column\n",
    "city_1BR_costs.plot(kind='bar',figsize=(10,6))\n",
    "plt.title('1BR Apartment Prices Across Major US Cities')\n",
    "plt.ylabel('USD')\n",
    "plt.xlabel('US Cities')\n",
    "plt.xticks(rotation=45, ha='right')\n",
    "\n",
    "#3 Bedroom costs\n",
    "city_3BR_costs = df1[['Apartment (3 Bed) City Center','Apartment (3 Bed) Non-City Center','Average Monthly Salary after tax']]\n",
    "\n",
    "# Plotting a bar graph for the 'Values' column\n",
    "city_3BR_costs.plot(kind='bar',figsize=(10,6))\n",
    "plt.title('3BR Apartment Prices Across Major US Cities')\n",
    "plt.ylabel('USD')\n",
    "plt.xlabel('US Cities')\n",
    "plt.xticks(rotation=45, ha='right')\n",
    "\n"
   ]
  },
  {
   "cell_type": "markdown",
   "id": "54133c49",
   "metadata": {},
   "source": [
    "Summary Stats for Apartment Prices"
   ]
  },
  {
   "cell_type": "code",
   "execution_count": 504,
   "id": "485d87ec",
   "metadata": {},
   "outputs": [
    {
     "name": "stdout",
     "output_type": "stream",
     "text": [
      "On average, 1 Bed Apartments are 27.1% more expensive in the city center than the non-city center\n",
      "On average, 3 Bed Apartments are 35.4% more expensive in the city center than the non-city center\n",
      "On average, 3 Bed Apartments are 88.1% more expensive than 1 Bed Apartments in the city center\n",
      "On average, 3 Bed Apartments are 76.6% more expensive than 1 Bed Apartments outside the city center\n"
     ]
    }
   ],
   "source": [
    "#Summary Stats for US City Apartment Prices\n",
    "df1.describe()\n",
    "\n",
    "#use summary stats to determine on average how much more a 3 bedroom apartment costs than a 1 bedroom apartment\n",
    "x = df1['Apartment (1 Bed) City Center'].mean() / df1['Apartment (1 Bed) Non-City Center'].mean() * 100 - 100\n",
    "print(f'On average, 1 Bed Apartments are {round(x,1)}% more expensive in the city center than the non-city center')\n",
    "\n",
    "x = df1['Apartment (3 Bed) City Center'].mean() / df1['Apartment (3 Bed) Non-City Center'].mean()*100 - 100\n",
    "print(f'On average, 3 Bed Apartments are {round(x,1)}% more expensive in the city center than the non-city center')\n",
    "\n",
    "x = df1['Apartment (3 Bed) City Center'].mean() / df1['Apartment (1 Bed) City Center'].mean()*100 -100\n",
    "print(f'On average, 3 Bed Apartments are {round(x,1)}% more expensive than 1 Bed Apartments in the city center')\n",
    "\n",
    "x = df1['Apartment (3 Bed) Non-City Center'].mean() / df1['Apartment (1 Bed) Non-City Center'].mean()*100 - 100\n",
    "print(f'On average, 3 Bed Apartments are {round(x,1)}% more expensive than 1 Bed Apartments outside the city center')"
   ]
  },
  {
   "cell_type": "markdown",
   "id": "77452eee",
   "metadata": {},
   "source": [
    "Determine if there is an obvious trend between Quality of Life VS Population of a city or Traffic/Commute vs Population"
   ]
  },
  {
   "cell_type": "code",
   "execution_count": null,
   "id": "691e54b8",
   "metadata": {},
   "outputs": [],
   "source": [
    "import pandas as pd\n",
    "import matplotlib.pyplot as plt\n",
    "from sklearn.linear_model import LinearRegression\n",
    "\n",
    "#Build a table of the most populated cities\n",
    "cities = city_population_df\n",
    "city_quality = []\n",
    "cities_used = []\n",
    "\n",
    "#Combine the uscities.csv with quality_of_life.csv to get population, density, and quality of life data into one table\n",
    "for index,row in cities.iterrows():\n",
    "    city = row['city']\n",
    "    population = row['population']\n",
    "    density = row['density']\n",
    "\n",
    "    if city in cities_used:\n",
    "        continue\n",
    "    try:\n",
    "        quality_life_data = quality_life_df[quality_life_df['City'] == city]\n",
    "        quality_rating = float(str_to_tuple(quality_life_data['ƒQuality of Life Index:'].values[0])[0])\n",
    "        traffic = float(str_to_tuple(quality_life_data['Traffic Commute Time Index'].values[0])[0])\n",
    "        pollution = float(str_to_tuple(quality_life_data['Pollution Index'].values[0])[0])\n",
    "        safety = float(str_to_tuple(quality_life_data['Safety Index'].values[0])[0])\n",
    "        if quality_rating:\n",
    "            city_quality.append((city, quality_rating, safety, traffic, pollution, population, density))\n",
    "            cities_used.append(city)\n",
    "    except:\n",
    "        pass\n",
    "\n",
    "#Create new data frame\n",
    "df2= pd.DataFrame(city_quality,columns=['City','Quality of Life index', 'Safety Index','Traffic Commute index','Pollution Index','Population','Density'])\n",
    "\n",
    "#Population vs Quality of Life index\n",
    "df2.plot.scatter(x='Quality of Life index',y='Population')\n",
    "plt.title('Population vs Quality of Life (higher is better)')\n",
    "plt.show()\n",
    "\n",
    "#Population vs Traffic/Commute index\n",
    "df2.plot.scatter(x = 'Traffic Commute index', y = 'Population')\n",
    "plt.title('Population vs Traffic index (lower is better)')\n",
    "plt.show()\n",
    "\n",
    "#Population vs Safety Index\n",
    "df2.plot.scatter(x = 'Safety Index', y = 'Population')\n",
    "plt.title('Population vs Safety Index (higher is better)')\n",
    "plt.show()\n",
    "\n",
    "#Density vs Pollution\n",
    "df2.plot.scatter(x = 'Pollution Index', y = 'Density')\n",
    "plt.title('Population Density vs Pollution Index (lower is better)')\n",
    "plt.show()\n",
    "\n",
    "#Density vs Population\n",
    "df2.plot.scatter(x= 'Population', y='Density')\n",
    "plt.title('Population vs Density')\n",
    "plt.show()\n",
    "\n"
   ]
  },
  {
   "cell_type": "code",
   "execution_count": null,
   "id": "560d1afd",
   "metadata": {},
   "outputs": [],
   "source": [
    "#Correlation\n",
    "correlation = df2[['Quality of Life index','Traffic Commute index','Pollution Index','Population','Density','Safety Index']].corr()\n",
    "print(correlation)\n"
   ]
  },
  {
   "cell_type": "markdown",
   "id": "e0f173ad",
   "metadata": {},
   "source": [
    "Unemployment Rate and Labor Force Population Data, Correlation"
   ]
  },
  {
   "cell_type": "code",
   "execution_count": 16,
   "id": "55f4298a",
   "metadata": {},
   "outputs": [
    {
     "data": {
      "image/png": "[encoded data removed]",
      "text/plain": [
       "<Figure size 640x480 with 1 Axes>"
      ]
     },
     "metadata": {},
     "output_type": "display_data"
    }
   ],
   "source": [
    "import re\n",
    "\n",
    "#Unemployment Rate and Labor Force Population Data\n",
    "unemployment = []\n",
    "unemployment_quality = []\n",
    "cities_found = []\n",
    "\n",
    "for index,row in labor_df.iterrows():\n",
    "    population = row['Labor Force Population']\n",
    "    city = row['City']\n",
    "    state = row['State Abbreviation']\n",
    "    try:\n",
    "        data = unemployment_df[unemployment_df['City'] == city]\n",
    "        unemployment_rate = data['Unemployment Rate'].values[0]\n",
    "        unemployment.append((city,state,population,unemployment_rate))\n",
    "    except:    \n",
    "        pass\n",
    "\n",
    "for city,state,population,unemployment_rate in unemployment:\n",
    "    cities = city.split('-')\n",
    "    pattern = r'\\b(county|city|town|township|plantation|unorganized)\\b'\n",
    "    for city in cities:\n",
    "        city = re.sub(pattern,'',city,flags=re.IGNORECASE)\n",
    "        if city in cities_found:\n",
    "            continue\n",
    "        try:\n",
    "            quality_life_data = quality_life_df[quality_life_df['City'] == city]\n",
    "            quality_rating = float(str_to_tuple(quality_life_data['ƒQuality of Life Index:'].values[0])[0])\n",
    "            unemployment_quality.append((city,state,population,unemployment_rate,quality_rating))\n",
    "\n",
    "            cities_found.append(city)\n",
    "        except:\n",
    "            pass\n",
    "\n",
    "df4 = pd.DataFrame(unemployment_quality, columns = ['City','State','Population','Unemployment Rate','Quality of Life Rating'])\n",
    "\n",
    "#Population vs Quality of Life index\n",
    "df4.plot.scatter(x='Unemployment Rate',y='Quality of Life Rating')\n",
    "plt.title('Unemployment vs Quality of Life')\n",
    "plt.show()"
   ]
  },
  {
   "cell_type": "code",
   "execution_count": 19,
   "id": "7846980a",
   "metadata": {},
   "outputs": [
    {
     "data": {
      "text/html": [
       "<div>\n",
       "<style scoped>\n",
       "    .dataframe tbody tr th:only-of-type {\n",
       "        vertical-align: middle;\n",
       "    }\n",
       "\n",
       "    .dataframe tbody tr th {\n",
       "        vertical-align: top;\n",
       "    }\n",
       "\n",
       "    .dataframe thead th {\n",
       "        text-align: right;\n",
       "    }\n",
       "</style>\n",
       "<table border=\"1\" class=\"dataframe\">\n",
       "  <thead>\n",
       "    <tr style=\"text-align: right;\">\n",
       "      <th></th>\n",
       "      <th>Population</th>\n",
       "      <th>Unemployment Rate</th>\n",
       "      <th>Quality of Life Rating</th>\n",
       "    </tr>\n",
       "  </thead>\n",
       "  <tbody>\n",
       "    <tr>\n",
       "      <th>Population</th>\n",
       "      <td>1.000000</td>\n",
       "      <td>0.167743</td>\n",
       "      <td>-0.198817</td>\n",
       "    </tr>\n",
       "    <tr>\n",
       "      <th>Unemployment Rate</th>\n",
       "      <td>0.167743</td>\n",
       "      <td>1.000000</td>\n",
       "      <td>-0.042383</td>\n",
       "    </tr>\n",
       "    <tr>\n",
       "      <th>Quality of Life Rating</th>\n",
       "      <td>-0.198817</td>\n",
       "      <td>-0.042383</td>\n",
       "      <td>1.000000</td>\n",
       "    </tr>\n",
       "  </tbody>\n",
       "</table>\n",
       "</div>"
      ],
      "text/plain": [
       "                        Population  Unemployment Rate  Quality of Life Rating\n",
       "Population                1.000000           0.167743               -0.198817\n",
       "Unemployment Rate         0.167743           1.000000               -0.042383\n",
       "Quality of Life Rating   -0.198817          -0.042383                1.000000"
      ]
     },
     "execution_count": 19,
     "metadata": {},
     "output_type": "execute_result"
    }
   ],
   "source": [
    "df4 = pd.DataFrame(unemployment_quality, columns = ['City','State','Population','Unemployment Rate','Quality of Life Rating'])\n",
    "df4[['Population','Unemployment Rate','Quality of Life Rating']].corr()\n"
   ]
  }
 ],
 "metadata": {
  "kernelspec": {
   "display_name": "filereader",
   "language": "python",
   "name": "python3"
  },
  "language_info": {
   "codemirror_mode": {
    "name": "ipython",
    "version": 3
   },
   "file_extension": ".py",
   "mimetype": "text/x-python",
   "name": "python",
   "nbconvert_exporter": "python",
   "pygments_lexer": "ipython3",
   "version": "3.12.4"
  }
 },
 "nbformat": 4,
 "nbformat_minor": 5
}
